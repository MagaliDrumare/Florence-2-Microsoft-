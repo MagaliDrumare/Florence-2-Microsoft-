{
  "nbformat": 4,
  "nbformat_minor": 0,
  "metadata": {
    "colab": {
      "private_outputs": true,
      "provenance": [],
      "authorship_tag": "ABX9TyMzrRykvkS5QL1dK7cWB+sN",
      "include_colab_link": true
    },
    "kernelspec": {
      "name": "python3",
      "display_name": "Python 3"
    },
    "language_info": {
      "name": "python"
    }
  },
  "cells": [
    {
      "cell_type": "markdown",
      "metadata": {
        "id": "view-in-github",
        "colab_type": "text"
      },
      "source": [
        "<a href=\"https://colab.research.google.com/github/MagaliDrumare/Florence-2-Microsoft-/blob/main/Florence_2_Microsoft.ipynb\" target=\"_parent\"><img src=\"https://colab.research.google.com/assets/colab-badge.svg\" alt=\"Open In Colab\"/></a>"
      ]
    },
    {
      "cell_type": "code",
      "source": [
        "pip install flash_attn timm einops"
      ],
      "metadata": {
        "id": "3HZz0yqaJ17g"
      },
      "execution_count": null,
      "outputs": []
    },
    {
      "cell_type": "code",
      "source": [
        "pip install pillow"
      ],
      "metadata": {
        "id": "3GCwMYZ5W2Ga"
      },
      "execution_count": null,
      "outputs": []
    },
    {
      "cell_type": "code",
      "execution_count": null,
      "metadata": {
        "id": "ubOTeSUzIsNi"
      },
      "outputs": [],
      "source": [
        "import requests\n",
        "\n",
        "from PIL import Image\n",
        "from transformers import AutoProcessor, AutoModelForCausalLM\n",
        "\n",
        "\n",
        "model = AutoModelForCausalLM.from_pretrained(\"microsoft/Florence-2-large\", trust_remote_code=True)\n",
        "processor = AutoProcessor.from_pretrained(\"microsoft/Florence-2-large\", trust_remote_code=True)\n",
        "\n",
        "prompt = \"<OD>\"\n",
        "\n",
        "url = \"https://huggingface.co/datasets/huggingface/documentation-images/resolve/main/transformers/tasks/car.jpg?download=true\"\n",
        "image = Image.open(requests.get(url, stream=True).raw)\n",
        "\n",
        "inputs = processor(text=prompt, images=image, return_tensors=\"pt\")\n",
        "\n",
        "generated_ids = model.generate(\n",
        "    input_ids=inputs[\"input_ids\"],\n",
        "    pixel_values=inputs[\"pixel_values\"],\n",
        "    max_new_tokens=1024,\n",
        "    num_beams=3,\n",
        "    do_sample=False\n",
        ")\n",
        "generated_text = processor.batch_decode(generated_ids, skip_special_tokens=False)[0]\n",
        "\n",
        "parsed_answer = processor.post_process_generation(generated_text, task=\"<OD>\", image_size=(image.width, image.height))\n",
        "\n",
        "print(parsed_answer)\n",
        "\n",
        "\n",
        "\n"
      ]
    },
    {
      "cell_type": "code",
      "source": [
        "import torch\n",
        "from PIL import Image, ImageDraw\n",
        "\n",
        "parsed_answer = {'<OD>': {'bboxes': [[34.23999786376953, 160.0800018310547, 597.4400024414062, 371.7599792480469],\n",
        "                                    [456.0, 97.68000030517578, 580.1599731445312, 261.8399963378906],\n",
        "                                    [450.8800048828125, 276.7200012207031, 554.5599975585938, 370.79998779296875],\n",
        "                                    [95.68000030517578, 280.55999755859375, 198.72000122070312, 371.2799987792969]],\n",
        "                         'labels': ['car', 'door', 'wheel', 'wheel']}}\n",
        "\n",
        "# Assuming 'image' is already loaded as a PIL Image object\n",
        "draw = ImageDraw.Draw(image)\n",
        "\n",
        "# Access bounding boxes and labels\n",
        "bboxes = parsed_answer['<OD>']['bboxes']\n",
        "labels = parsed_answer['<OD>']['labels']\n",
        "\n",
        "for bbox, label in zip(bboxes, labels):\n",
        "    top_left = (int(bbox[0] * image.width), int(bbox[1] * image.height))\n",
        "    bottom_right = (int((bbox[0] + bbox[2]) * image.width), int((bbox[1] + bbox[3]) * image.height))\n",
        "\n",
        "    print(\"Top-left:\", top_left)\n",
        "    print(\"Bottom-right:\", bottom_right)\n",
        "\n",
        "    draw.rectangle([top_left, bottom_right], outline=\"red\", width=6)\n",
        "    draw.text(top_left, label, fill=\"red\")\n",
        "\n",
        "display(image)  # Display the image with drawn boxes"
      ],
      "metadata": {
        "id": "MEtK6XO8U-8Q"
      },
      "execution_count": null,
      "outputs": []
    },
    {
      "cell_type": "code",
      "source": [
        "from PIL import Image, ImageDraw\n",
        "\n",
        "# Your complete parsed_answer dictionary (please provide the full content)\n",
        "parsed_answer = {'<OD>': {'bboxes': [[34.23999786376953, 160.0800018310547, 597.4400024414062, 371.7599792480469],\n",
        "                                    [456.0, 97.68000030517578, 580.1599731445312, 261.8399963378906],\n",
        "                                    [450.8800048828125, 276.7200012207031, 554.5599975585938, 370.79998779296875],\n",
        "                                    [95.68000030517578, 280.55999755859375, 198.72000122070312, 371.2799987792969]], # Complete this line\n",
        "                         'labels': ['car', 'door', 'wheel', 'wheel']}} # And this list\n",
        "\n",
        "# Create a drawing object\n",
        "draw = ImageDraw.Draw(image)\n",
        "\n",
        "# Extract bounding boxes and labels\n",
        "bboxes = parsed_answer['<OD>']['bboxes']\n",
        "labels = parsed_answer['<OD>']['labels']\n",
        "\n",
        "# Iterate and draw boxes\n",
        "for bbox, label in zip(bboxes, labels):\n",
        "    # Assuming normalized coordinates, convert to pixel coordinates\n",
        "    top_left = (int(bbox[0] * image.width), int(bbox[1] * image.height))\n",
        "    bottom_right = (int((bbox[0] + bbox[2]) * image.width), int((bbox[1] + bbox[3]) * image.height))\n",
        "\n",
        "    # Draw the rectangle\n",
        "    draw.rectangle([top_left, bottom_right], outline=\"red\", width=2)\n",
        "\n",
        "    # Add the label\n",
        "    draw.text(top_left, label, fill=\"red\")\n",
        "\n",
        "# Display or save the image\n",
        "display(image)  # If you are in a Jupyter Notebook\n",
        "#image.save('image_with_boxes.jpg') # To save the image to a file"
      ],
      "metadata": {
        "id": "E1CTSIcDWRL9"
      },
      "execution_count": null,
      "outputs": []
    }
  ]
}